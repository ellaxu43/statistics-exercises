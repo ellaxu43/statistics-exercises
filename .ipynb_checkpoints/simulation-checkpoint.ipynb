{
 "cells": [
  {
   "cell_type": "code",
   "execution_count": 2,
   "id": "980eb06b",
   "metadata": {},
   "outputs": [],
   "source": [
    "import numpy as np"
   ]
  },
  {
   "cell_type": "code",
   "execution_count": 3,
   "id": "087a0ff9",
   "metadata": {},
   "outputs": [],
   "source": [
    "import pandas as pd"
   ]
  },
  {
   "cell_type": "markdown",
   "id": "8a5a3b5a",
   "metadata": {},
   "source": [
    "## 1. How likely is it that you roll doubles when rolling two dice?"
   ]
  },
  {
   "cell_type": "code",
   "execution_count": 5,
   "id": "22ae62a2",
   "metadata": {},
   "outputs": [
    {
     "data": {
      "text/html": [
       "<div>\n",
       "<style scoped>\n",
       "    .dataframe tbody tr th:only-of-type {\n",
       "        vertical-align: middle;\n",
       "    }\n",
       "\n",
       "    .dataframe tbody tr th {\n",
       "        vertical-align: top;\n",
       "    }\n",
       "\n",
       "    .dataframe thead th {\n",
       "        text-align: right;\n",
       "    }\n",
       "</style>\n",
       "<table border=\"1\" class=\"dataframe\">\n",
       "  <thead>\n",
       "    <tr style=\"text-align: right;\">\n",
       "      <th></th>\n",
       "      <th>first</th>\n",
       "      <th>second</th>\n",
       "    </tr>\n",
       "  </thead>\n",
       "  <tbody>\n",
       "    <tr>\n",
       "      <th>0</th>\n",
       "      <td>4</td>\n",
       "      <td>5</td>\n",
       "    </tr>\n",
       "    <tr>\n",
       "      <th>1</th>\n",
       "      <td>5</td>\n",
       "      <td>1</td>\n",
       "    </tr>\n",
       "    <tr>\n",
       "      <th>2</th>\n",
       "      <td>2</td>\n",
       "      <td>1</td>\n",
       "    </tr>\n",
       "    <tr>\n",
       "      <th>3</th>\n",
       "      <td>4</td>\n",
       "      <td>4</td>\n",
       "    </tr>\n",
       "    <tr>\n",
       "      <th>4</th>\n",
       "      <td>2</td>\n",
       "      <td>6</td>\n",
       "    </tr>\n",
       "    <tr>\n",
       "      <th>...</th>\n",
       "      <td>...</td>\n",
       "      <td>...</td>\n",
       "    </tr>\n",
       "    <tr>\n",
       "      <th>9995</th>\n",
       "      <td>5</td>\n",
       "      <td>6</td>\n",
       "    </tr>\n",
       "    <tr>\n",
       "      <th>9996</th>\n",
       "      <td>3</td>\n",
       "      <td>2</td>\n",
       "    </tr>\n",
       "    <tr>\n",
       "      <th>9997</th>\n",
       "      <td>2</td>\n",
       "      <td>4</td>\n",
       "    </tr>\n",
       "    <tr>\n",
       "      <th>9998</th>\n",
       "      <td>6</td>\n",
       "      <td>1</td>\n",
       "    </tr>\n",
       "    <tr>\n",
       "      <th>9999</th>\n",
       "      <td>2</td>\n",
       "      <td>3</td>\n",
       "    </tr>\n",
       "  </tbody>\n",
       "</table>\n",
       "<p>10000 rows × 2 columns</p>\n",
       "</div>"
      ],
      "text/plain": [
       "      first  second\n",
       "0         4       5\n",
       "1         5       1\n",
       "2         2       1\n",
       "3         4       4\n",
       "4         2       6\n",
       "...     ...     ...\n",
       "9995      5       6\n",
       "9996      3       2\n",
       "9997      2       4\n",
       "9998      6       1\n",
       "9999      2       3\n",
       "\n",
       "[10000 rows x 2 columns]"
      ]
     },
     "execution_count": 5,
     "metadata": {},
     "output_type": "execute_result"
    }
   ],
   "source": [
    "# 1. Figure out how to represent your data (1 = heads, 0 = tails)\n",
    "# a dice roll is a random number between 1 and 6\n",
    "\n",
    "# 2. Create a matrix of random numbers, rows represent simulations cols represent trials\n",
    "rolls = pd.DataFrame(np.random.randint(1, 7, size=(10000, 2)), columns = ['first','second'])\n",
    "\n",
    "rolls"
   ]
  },
  {
   "cell_type": "code",
   "execution_count": 10,
   "id": "4791d955",
   "metadata": {},
   "outputs": [
    {
     "data": {
      "text/plain": [
       "0.167"
      ]
     },
     "execution_count": 10,
     "metadata": {},
     "output_type": "execute_result"
    }
   ],
   "source": [
    "(rolls['first'] == rolls['second']).sum()/10000"
   ]
  },
  {
   "cell_type": "code",
   "execution_count": 11,
   "id": "1ead3d61",
   "metadata": {},
   "outputs": [
    {
     "data": {
      "text/plain": [
       "0.167"
      ]
     },
     "execution_count": 11,
     "metadata": {},
     "output_type": "execute_result"
    }
   ],
   "source": [
    "\n",
    "# 3. Apply an aggregation row-wise to summarize each simulation (sum for the total number of heads)\n",
    "two_doubles = rolls.apply(lambda row: row['first']==row['second'], axis=1)\n",
    "\n",
    "# 4. Apply an aggregation to the resulting 1-d array to come up with a experimental probability (>= 2 heads, mean)\n",
    "two_doubles.mean()"
   ]
  },
  {
   "cell_type": "markdown",
   "id": "c21ffb33",
   "metadata": {},
   "source": [
    "## 2. If you flip 8 coins, what is the probability of getting exactly 3 heads? What is the probability of getting more than 3 heads?"
   ]
  },
  {
   "cell_type": "code",
   "execution_count": 24,
   "id": "31865aea",
   "metadata": {},
   "outputs": [
    {
     "data": {
      "text/html": [
       "<div>\n",
       "<style scoped>\n",
       "    .dataframe tbody tr th:only-of-type {\n",
       "        vertical-align: middle;\n",
       "    }\n",
       "\n",
       "    .dataframe tbody tr th {\n",
       "        vertical-align: top;\n",
       "    }\n",
       "\n",
       "    .dataframe thead th {\n",
       "        text-align: right;\n",
       "    }\n",
       "</style>\n",
       "<table border=\"1\" class=\"dataframe\">\n",
       "  <thead>\n",
       "    <tr style=\"text-align: right;\">\n",
       "      <th></th>\n",
       "      <th>0</th>\n",
       "      <th>1</th>\n",
       "      <th>2</th>\n",
       "      <th>3</th>\n",
       "      <th>4</th>\n",
       "      <th>5</th>\n",
       "      <th>6</th>\n",
       "      <th>7</th>\n",
       "    </tr>\n",
       "  </thead>\n",
       "  <tbody>\n",
       "    <tr>\n",
       "      <th>0</th>\n",
       "      <td>3</td>\n",
       "      <td>2</td>\n",
       "      <td>3</td>\n",
       "      <td>5</td>\n",
       "      <td>5</td>\n",
       "      <td>5</td>\n",
       "      <td>2</td>\n",
       "      <td>1</td>\n",
       "    </tr>\n",
       "    <tr>\n",
       "      <th>1</th>\n",
       "      <td>1</td>\n",
       "      <td>2</td>\n",
       "      <td>2</td>\n",
       "      <td>5</td>\n",
       "      <td>1</td>\n",
       "      <td>2</td>\n",
       "      <td>3</td>\n",
       "      <td>6</td>\n",
       "    </tr>\n",
       "    <tr>\n",
       "      <th>2</th>\n",
       "      <td>6</td>\n",
       "      <td>1</td>\n",
       "      <td>6</td>\n",
       "      <td>3</td>\n",
       "      <td>5</td>\n",
       "      <td>1</td>\n",
       "      <td>6</td>\n",
       "      <td>2</td>\n",
       "    </tr>\n",
       "    <tr>\n",
       "      <th>3</th>\n",
       "      <td>1</td>\n",
       "      <td>4</td>\n",
       "      <td>3</td>\n",
       "      <td>6</td>\n",
       "      <td>3</td>\n",
       "      <td>6</td>\n",
       "      <td>4</td>\n",
       "      <td>5</td>\n",
       "    </tr>\n",
       "    <tr>\n",
       "      <th>4</th>\n",
       "      <td>5</td>\n",
       "      <td>2</td>\n",
       "      <td>2</td>\n",
       "      <td>3</td>\n",
       "      <td>3</td>\n",
       "      <td>6</td>\n",
       "      <td>4</td>\n",
       "      <td>4</td>\n",
       "    </tr>\n",
       "    <tr>\n",
       "      <th>...</th>\n",
       "      <td>...</td>\n",
       "      <td>...</td>\n",
       "      <td>...</td>\n",
       "      <td>...</td>\n",
       "      <td>...</td>\n",
       "      <td>...</td>\n",
       "      <td>...</td>\n",
       "      <td>...</td>\n",
       "    </tr>\n",
       "    <tr>\n",
       "      <th>9995</th>\n",
       "      <td>6</td>\n",
       "      <td>3</td>\n",
       "      <td>6</td>\n",
       "      <td>3</td>\n",
       "      <td>1</td>\n",
       "      <td>5</td>\n",
       "      <td>4</td>\n",
       "      <td>5</td>\n",
       "    </tr>\n",
       "    <tr>\n",
       "      <th>9996</th>\n",
       "      <td>1</td>\n",
       "      <td>6</td>\n",
       "      <td>4</td>\n",
       "      <td>1</td>\n",
       "      <td>6</td>\n",
       "      <td>6</td>\n",
       "      <td>1</td>\n",
       "      <td>3</td>\n",
       "    </tr>\n",
       "    <tr>\n",
       "      <th>9997</th>\n",
       "      <td>6</td>\n",
       "      <td>2</td>\n",
       "      <td>3</td>\n",
       "      <td>1</td>\n",
       "      <td>6</td>\n",
       "      <td>4</td>\n",
       "      <td>4</td>\n",
       "      <td>1</td>\n",
       "    </tr>\n",
       "    <tr>\n",
       "      <th>9998</th>\n",
       "      <td>6</td>\n",
       "      <td>5</td>\n",
       "      <td>6</td>\n",
       "      <td>5</td>\n",
       "      <td>2</td>\n",
       "      <td>1</td>\n",
       "      <td>6</td>\n",
       "      <td>6</td>\n",
       "    </tr>\n",
       "    <tr>\n",
       "      <th>9999</th>\n",
       "      <td>2</td>\n",
       "      <td>5</td>\n",
       "      <td>6</td>\n",
       "      <td>6</td>\n",
       "      <td>2</td>\n",
       "      <td>5</td>\n",
       "      <td>5</td>\n",
       "      <td>5</td>\n",
       "    </tr>\n",
       "  </tbody>\n",
       "</table>\n",
       "<p>10000 rows × 8 columns</p>\n",
       "</div>"
      ],
      "text/plain": [
       "      0  1  2  3  4  5  6  7\n",
       "0     3  2  3  5  5  5  2  1\n",
       "1     1  2  2  5  1  2  3  6\n",
       "2     6  1  6  3  5  1  6  2\n",
       "3     1  4  3  6  3  6  4  5\n",
       "4     5  2  2  3  3  6  4  4\n",
       "...  .. .. .. .. .. .. .. ..\n",
       "9995  6  3  6  3  1  5  4  5\n",
       "9996  1  6  4  1  6  6  1  3\n",
       "9997  6  2  3  1  6  4  4  1\n",
       "9998  6  5  6  5  2  1  6  6\n",
       "9999  2  5  6  6  2  5  5  5\n",
       "\n",
       "[10000 rows x 8 columns]"
      ]
     },
     "execution_count": 24,
     "metadata": {},
     "output_type": "execute_result"
    }
   ],
   "source": [
    "rolls = pd.DataFrame(np.random.randint(1, 7, size=(10000, 8)))\n",
    "\n",
    "rolls"
   ]
  },
  {
   "cell_type": "code",
   "execution_count": 25,
   "id": "f9b67b12",
   "metadata": {},
   "outputs": [
    {
     "data": {
      "text/plain": [
       "0.7664"
      ]
     },
     "execution_count": 25,
     "metadata": {},
     "output_type": "execute_result"
    }
   ],
   "source": [
    "did_we_get_at_least_3_3 = (rolls == 3).sum(axis=1) >= 1\n",
    "\n",
    "# 4. Apply an aggregation to the resulting 1-d array to come up with a experimental probability (>= 2 heads, mean)\n",
    "did_we_get_at_least_3_3.mean()"
   ]
  },
  {
   "cell_type": "markdown",
   "id": "48a50043",
   "metadata": {},
   "source": [
    "## 3. There are approximitely 3 web development cohorts for every 1 data science cohort at Codeup. Assuming that Codeup randomly selects an alumni to put on a billboard, what are the odds that the two billboards I drive past both have data science students on them?"
   ]
  },
  {
   "cell_type": "code",
   "execution_count": 26,
   "id": "164548a0",
   "metadata": {},
   "outputs": [],
   "source": [
    "# 3 A, 1 B, that's the P to get 2 B "
   ]
  },
  {
   "cell_type": "code",
   "execution_count": 68,
   "id": "5d9f7a2d",
   "metadata": {},
   "outputs": [],
   "source": [
    "n_trials = 2 # billboards\n",
    "n_simulations = 10_000 # arbitrary number of sims\n",
    "\n",
    "data_cohort_sim = np.random.uniform(size=(n_simulations, n_trials)) <= .25"
   ]
  },
  {
   "cell_type": "code",
   "execution_count": 69,
   "id": "09f28d44",
   "metadata": {},
   "outputs": [
    {
     "data": {
      "text/plain": [
       "array([[False, False],\n",
       "       [False, False],\n",
       "       [ True, False],\n",
       "       ...,\n",
       "       [False, False],\n",
       "       [False,  True],\n",
       "       [False, False]])"
      ]
     },
     "execution_count": 69,
     "metadata": {},
     "output_type": "execute_result"
    }
   ],
   "source": [
    "data_cohort_sim"
   ]
  },
  {
   "cell_type": "code",
   "execution_count": 70,
   "id": "9d010f3f",
   "metadata": {},
   "outputs": [
    {
     "data": {
      "text/plain": [
       "array([0, 0, 1, ..., 0, 1, 0])"
      ]
     },
     "execution_count": 70,
     "metadata": {},
     "output_type": "execute_result"
    }
   ],
   "source": [
    "n_data_cohort_choose = data_cohort_sim.sum(axis=1)\n",
    "n_data_cohort_choose"
   ]
  },
  {
   "cell_type": "code",
   "execution_count": 73,
   "id": "90dcf780",
   "metadata": {},
   "outputs": [],
   "source": [
    "two_are_data = n_data_cohort_choose >=2\n"
   ]
  },
  {
   "cell_type": "code",
   "execution_count": 74,
   "id": "6e5faeb8",
   "metadata": {},
   "outputs": [
    {
     "data": {
      "text/plain": [
       "0.065"
      ]
     },
     "execution_count": 74,
     "metadata": {},
     "output_type": "execute_result"
    }
   ],
   "source": [
    "two_are_data.mean()"
   ]
  },
  {
   "cell_type": "markdown",
   "id": "9806f760",
   "metadata": {},
   "source": [
    "## 4. Codeup students buy, on average, 3 poptart packages with a standard deviation of 1.5 a day from the snack vending machine. If on monday the machine is restocked with 17 poptart packages, how likely is it that I will be able to buy some poptarts on Friday afternoon? (Remember, if you have mean and standard deviation, use the np.random.normal)\n",
    "\n"
   ]
  },
  {
   "cell_type": "code",
   "execution_count": 76,
   "id": "674d0437",
   "metadata": {},
   "outputs": [],
   "source": [
    "# STD = 1.5 /day\n",
    "# Mean = 3\n",
    "# restock 17"
   ]
  },
  {
   "cell_type": "code",
   "execution_count": 79,
   "id": "dc2d01a5",
   "metadata": {},
   "outputs": [
    {
     "data": {
      "text/plain": [
       "array([[ 3.7451608 ,  3.87633254,  1.33234585, ...,  0.06902782,\n",
       "         2.0542258 , -1.14996539],\n",
       "       [ 1.37308267,  4.21264158,  4.60193848, ...,  3.97844897,\n",
       "         5.63214727,  3.86115834],\n",
       "       [ 3.0695329 ,  3.55766325,  0.62784014, ...,  4.13317929,\n",
       "         4.14818875,  2.8893677 ],\n",
       "       [ 2.16318627,  1.88466829,  5.08066415, ...,  4.55299773,\n",
       "         2.70164457,  3.9326609 ],\n",
       "       [ 4.78801661,  3.57112491,  1.98820689, ...,  3.03774888,\n",
       "         3.26973832,  1.10072252]])"
      ]
     },
     "execution_count": 79,
     "metadata": {},
     "output_type": "execute_result"
    }
   ],
   "source": [
    "np.random.normal(3, 1.5, size =(5,1000))"
   ]
  },
  {
   "cell_type": "code",
   "execution_count": null,
   "id": "65853633",
   "metadata": {},
   "outputs": [],
   "source": []
  }
 ],
 "metadata": {
  "kernelspec": {
   "display_name": "Python 3 (ipykernel)",
   "language": "python",
   "name": "python3"
  },
  "language_info": {
   "codemirror_mode": {
    "name": "ipython",
    "version": 3
   },
   "file_extension": ".py",
   "mimetype": "text/x-python",
   "name": "python",
   "nbconvert_exporter": "python",
   "pygments_lexer": "ipython3",
   "version": "3.9.7"
  }
 },
 "nbformat": 4,
 "nbformat_minor": 5
}
