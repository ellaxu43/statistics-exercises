{
 "cells": [
  {
   "cell_type": "markdown",
   "id": "8978411c",
   "metadata": {},
   "source": [
    "## For each of the following questions, formulate a null and alternative hypothesis (be as specific as you can be), then give an example of what a true positive, true negative, type I and type II errors would look like. Note that some of the questions are intentionally phrased in a vague way. It is your job to reword these as more precise questions that could be tested."
   ]
  },
  {
   "cell_type": "markdown",
   "id": "930364bf",
   "metadata": {},
   "source": [
    "## Has the network latency gone up since we switched internet service providers?"
   ]
  },
  {
   "cell_type": "markdown",
   "id": "5b658fbf",
   "metadata": {},
   "source": [
    "H0: Network latency in my home has no difference since we switched internet service providers?"
   ]
  },
  {
   "cell_type": "markdown",
   "id": "9e78f918",
   "metadata": {},
   "source": [
    "H1: Network latency in my home has gone up since we switched internet service providers?"
   ]
  },
  {
   "cell_type": "markdown",
   "id": "75cfe6fe",
   "metadata": {},
   "source": [
    "Type 1 error: we rejected the H0, believe there are difference but actually isn't. \n",
    "Type 2 error: we fail to reject the H0, believe there is no difference but there actually is a difference."
   ]
  },
  {
   "cell_type": "markdown",
   "id": "83442909",
   "metadata": {},
   "source": [
    "## Is the website redesign any good?\n"
   ]
  },
  {
   "cell_type": "markdown",
   "id": "e3b788d8",
   "metadata": {},
   "source": [
    "H0: the codeup webisite redeign make no difference on how long will customer stay on our website. \n",
    "    "
   ]
  },
  {
   "cell_type": "markdown",
   "id": "f1d9df4a",
   "metadata": {},
   "source": [
    "H1: the codeup webisite redeign will keep customer to review our website longer. \n",
    "    "
   ]
  },
  {
   "cell_type": "markdown",
   "id": "443860ec",
   "metadata": {},
   "source": [
    "Type 1 error: we rejected the H0, believe there are difference but actually isn't. Type 2 error: we fail to reject the H0, believe there is no difference but there actually is a difference, with redesign webiste, people tend to stay on website longer. "
   ]
  },
  {
   "cell_type": "markdown",
   "id": "cafd0802",
   "metadata": {},
   "source": [
    "## Is our television ad driving more sales?"
   ]
  },
  {
   "cell_type": "markdown",
   "id": "af0be1df",
   "metadata": {},
   "source": [
    "H0: Television ads from 9-10 pm sales makes no difference from our ads in the morning from 8-10 am."
   ]
  },
  {
   "cell_type": "markdown",
   "id": "cf680c09",
   "metadata": {},
   "source": [
    "H1: Television ads from 9-10 pm creates more sales than our ads in the morning from 8-10 am. "
   ]
  },
  {
   "cell_type": "markdown",
   "id": "001c3476",
   "metadata": {},
   "source": [
    "Type 1 error: we rejected the H0, believe there are difference but actually isn't. Type 2 error: we fail to reject the H0, believe there is no difference but there actually is a difference, "
   ]
  },
  {
   "cell_type": "code",
   "execution_count": null,
   "id": "78ac2cbb",
   "metadata": {},
   "outputs": [],
   "source": []
  }
 ],
 "metadata": {
  "kernelspec": {
   "display_name": "Python 3 (ipykernel)",
   "language": "python",
   "name": "python3"
  },
  "language_info": {
   "codemirror_mode": {
    "name": "ipython",
    "version": 3
   },
   "file_extension": ".py",
   "mimetype": "text/x-python",
   "name": "python",
   "nbconvert_exporter": "python",
   "pygments_lexer": "ipython3",
   "version": "3.9.7"
  }
 },
 "nbformat": 4,
 "nbformat_minor": 5
}
