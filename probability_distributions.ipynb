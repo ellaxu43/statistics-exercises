{
 "cells": [
  {
   "cell_type": "code",
   "execution_count": 3,
   "id": "f9f6852d",
   "metadata": {},
   "outputs": [],
   "source": [
    "import numpy as np\n",
    "import pandas as pd\n",
    "import matplotlib.pyplot as plt\n",
    "from scipy import stats"
   ]
  },
  {
   "cell_type": "markdown",
   "id": "f4168fe6",
   "metadata": {},
   "source": [
    "## 1. A bank found that the average number of cars waiting during the noon hour at a drive-up window follows a Poisson distribution with a mean of 2 cars. Make a chart of this distribution and answer these questions concerning the probability of cars waiting at the drive-up window.\n",
    "\n",
    "What is the probability that no cars drive up in the noon hour?\n",
    "What is the probability that 3 or more cars come through the drive through?\n",
    "How likely is it that the drive through gets at least 1 car?"
   ]
  },
  {
   "cell_type": "markdown",
   "id": "52d31667",
   "metadata": {},
   "source": [
    "What is the probability that no cars drive up in the noon hour?"
   ]
  },
  {
   "cell_type": "code",
   "execution_count": 5,
   "id": "d16df1cb",
   "metadata": {},
   "outputs": [
    {
     "data": {
      "text/plain": [
       "0.1353352832366127"
      ]
     },
     "execution_count": 5,
     "metadata": {},
     "output_type": "execute_result"
    }
   ],
   "source": [
    "avg_car_per_hour = 2\n",
    "\n",
    "stats.poisson(avg_car_per_hour).pmf(0)"
   ]
  },
  {
   "cell_type": "markdown",
   "id": "aa9cc2dc",
   "metadata": {},
   "source": [
    "hat is the probability that 3 or more cars come through the drive through?"
   ]
  },
  {
   "cell_type": "code",
   "execution_count": 6,
   "id": "0fde5642",
   "metadata": {},
   "outputs": [
    {
     "data": {
      "text/plain": [
       "0.18044704431548356"
      ]
     },
     "execution_count": 6,
     "metadata": {},
     "output_type": "execute_result"
    }
   ],
   "source": [
    "stats.poisson(avg_car_per_hour).pmf(3)"
   ]
  },
  {
   "cell_type": "markdown",
   "id": "4cfd76e7",
   "metadata": {},
   "source": [
    "How likely is it that the drive through gets at least 1 car?"
   ]
  },
  {
   "cell_type": "code",
   "execution_count": 7,
   "id": "1b236385",
   "metadata": {},
   "outputs": [
    {
     "data": {
      "text/plain": [
       "0.5939941502901616"
      ]
     },
     "execution_count": 7,
     "metadata": {},
     "output_type": "execute_result"
    }
   ],
   "source": [
    "stats.poisson(avg_car_per_hour).sf(1)"
   ]
  },
  {
   "cell_type": "code",
   "execution_count": 66,
   "id": "52e7fc55",
   "metadata": {},
   "outputs": [
    {
     "data": {
      "image/png": "[encoded data removed]",
      "text/plain": [
       "<Figure size 432x288 with 1 Axes>"
      ]
     },
     "metadata": {
      "needs_background": "light"
     },
     "output_type": "display_data"
    }
   ],
   "source": [
    "pd.Series(stats.poisson(2).rvs(1000)).value_counts().sort_index().plot.bar()\n",
    "plt.show()"
   ]
  },
  {
   "cell_type": "markdown",
   "id": "a3ca6d45",
   "metadata": {},
   "source": [
    "## Grades of State University graduates are normally distributed with a mean of 3.0 and a standard deviation of .3. Calculate the following:\n",
    "\n",
    "What grade point average is required to be in the top 5% of the graduating class?"
   ]
  },
  {
   "cell_type": "code",
   "execution_count": 8,
   "id": "e9080a93",
   "metadata": {},
   "outputs": [
    {
     "data": {
      "text/plain": [
       "3.4934560880854417"
      ]
     },
     "execution_count": 8,
     "metadata": {},
     "output_type": "execute_result"
    }
   ],
   "source": [
    "stats.norm(3, 0.3).isf(.05)"
   ]
  },
  {
   "cell_type": "markdown",
   "id": "f7134238",
   "metadata": {},
   "source": [
    "What GPA constitutes the bottom 15% of the class?"
   ]
  },
  {
   "cell_type": "code",
   "execution_count": 9,
   "id": "89321611",
   "metadata": {},
   "outputs": [
    {
     "data": {
      "text/plain": [
       "2.689069983151863"
      ]
     },
     "execution_count": 9,
     "metadata": {},
     "output_type": "execute_result"
    }
   ],
   "source": [
    "stats.norm(3, 0.3).ppf(.15)"
   ]
  },
  {
   "cell_type": "markdown",
   "id": "7ef9077b",
   "metadata": {},
   "source": [
    "An eccentric alumnus left scholarship money for students in the third decile from the bottom of their class. Determine the range of the third decile. Would a student with a 2.8 grade point average qualify for this scholarship?"
   ]
  },
  {
   "cell_type": "code",
   "execution_count": 21,
   "id": "5aa97a4b",
   "metadata": {},
   "outputs": [
    {
     "data": {
      "text/plain": [
       "2.7976530749411754"
      ]
     },
     "execution_count": 21,
     "metadata": {},
     "output_type": "execute_result"
    }
   ],
   "source": [
    "stats.norm(3, 0.3).isf(.75)"
   ]
  },
  {
   "cell_type": "markdown",
   "id": "f8d1ac87",
   "metadata": {},
   "source": [
    "If I have a GPA of 3.5, what percentile am I in?"
   ]
  },
  {
   "cell_type": "code",
   "execution_count": 24,
   "id": "5f104742",
   "metadata": {},
   "outputs": [
    {
     "data": {
      "text/plain": [
       "0.0477903522728147"
      ]
     },
     "execution_count": 24,
     "metadata": {},
     "output_type": "execute_result"
    }
   ],
   "source": [
    "stats.norm(3, 0.3).sf(3.5)"
   ]
  },
  {
   "cell_type": "markdown",
   "id": "b64b1509",
   "metadata": {},
   "source": [
    "## A marketing website has an average click-through rate of 2%. One day they observe 4326 visitors and 97 click-throughs. How likely is it that this many people or more click through"
   ]
  },
  {
   "cell_type": "code",
   "execution_count": 68,
   "id": "5283f5a9",
   "metadata": {},
   "outputs": [
    {
     "data": {
      "text/plain": [
       "<AxesSubplot:>"
      ]
     },
     "execution_count": 68,
     "metadata": {},
     "output_type": "execute_result"
    },
    {
     "data": {
      "image/png": "[encoded data removed]",
      "text/plain": [
       "<Figure size 432x288 with 1 Axes>"
      ]
     },
     "metadata": {
      "needs_background": "light"
     },
     "output_type": "display_data"
    }
   ],
   "source": [
    "pd.Series(stats.binom(n_trials, avg_click_through).rvs(10_000)).value_counts().sort_index().plot.bar(width=1, ec='black')\n"
   ]
  },
  {
   "cell_type": "code",
   "execution_count": 10,
   "id": "807f6b5c",
   "metadata": {},
   "outputs": [
    {
     "data": {
      "text/plain": [
       "0.8821846941402154"
      ]
     },
     "execution_count": 10,
     "metadata": {},
     "output_type": "execute_result"
    }
   ],
   "source": [
    "avg_click_through = 0.02\n",
    "n_trials = 4326\n",
    "\n",
    "stats.binom(n_trials, avg_click_through).cdf(97)"
   ]
  },
  {
   "cell_type": "markdown",
   "id": "df34f0dc",
   "metadata": {},
   "source": [
    "## You are working on some statistics homework consisting of 100 questions where all of the answers are a probability rounded to the hundreths place. Looking to save time, you put down random probabilities as the answer to each question.\n",
    "\n",
    "## What is the probability that at least one of your first 60 answers is correct?"
   ]
  },
  {
   "cell_type": "code",
   "execution_count": 29,
   "id": "be4fbca3",
   "metadata": {},
   "outputs": [
    {
     "data": {
      "text/plain": [
       "3.304566089339202e-05"
      ]
     },
     "execution_count": 29,
     "metadata": {},
     "output_type": "execute_result"
    }
   ],
   "source": [
    "right_answer_p = 0.000137\n",
    "n_trials = 60\n",
    "\n",
    "stats.binom(n_trials, right_answer_p).sf(1)"
   ]
  },
  {
   "cell_type": "code",
   "execution_count": 69,
   "id": "741d4a1c",
   "metadata": {},
   "outputs": [
    {
     "data": {
      "text/plain": [
       "<AxesSubplot:>"
      ]
     },
     "execution_count": 69,
     "metadata": {},
     "output_type": "execute_result"
    },
    {
     "data": {
      "image/png": "[encoded data removed]",
      "text/plain": [
       "<Figure size 432x288 with 1 Axes>"
      ]
     },
     "metadata": {
      "needs_background": "light"
     },
     "output_type": "display_data"
    }
   ],
   "source": [
    "pd.Series(stats.binom(n_trials, right_answer_p).rvs(10_000)).value_counts().sort_index().plot.bar(width=1, ec='black')\n"
   ]
  },
  {
   "cell_type": "markdown",
   "id": "4d8193f6",
   "metadata": {},
   "source": [
    "## The codeup staff tends to get upset when the student break area is not cleaned up. Suppose that there's a 3% chance that any one student cleans the break area when they visit it, and, on any given day, about 90% of the 3 active cohorts of 22 students visit the break area. How likely is it that the break area gets cleaned up each day? How likely is it that it goes two days without getting cleaned up? All week?"
   ]
  },
  {
   "cell_type": "markdown",
   "id": "4ea3c16e",
   "metadata": {},
   "source": [
    "How likely is it that the break area gets cleaned up each day?"
   ]
  },
  {
   "cell_type": "code",
   "execution_count": 16,
   "id": "5e53c991",
   "metadata": {},
   "outputs": [
    {
     "data": {
      "text/plain": [
       "0.5353588059898826"
      ]
     },
     "execution_count": 16,
     "metadata": {},
     "output_type": "execute_result"
    }
   ],
   "source": [
    "clean = 0.03\n",
    "n_trials = (3*22)*0.9\n",
    "\n",
    "stats.binom(n_trials, clean).sf(1)"
   ]
  },
  {
   "cell_type": "markdown",
   "id": "1ef7e142",
   "metadata": {},
   "source": [
    "How likely is it that it goes two days without getting cleaned up?"
   ]
  },
  {
   "cell_type": "code",
   "execution_count": 17,
   "id": "1ada2194",
   "metadata": {},
   "outputs": [
    {
     "data": {
      "text/plain": [
       "0.026821436301629097"
      ]
     },
     "execution_count": 17,
     "metadata": {},
     "output_type": "execute_result"
    }
   ],
   "source": [
    "clean = 0.03\n",
    "n_trials = (3*22)*0.9*2\n",
    "\n",
    "stats.binom(n_trials, clean).cdf(0)"
   ]
  },
  {
   "cell_type": "markdown",
   "id": "28a52798",
   "metadata": {},
   "source": [
    "All week?"
   ]
  },
  {
   "cell_type": "code",
   "execution_count": 20,
   "id": "b88d086a",
   "metadata": {},
   "outputs": [
    {
     "data": {
      "text/plain": [
       "0.00011781621791055166"
      ]
     },
     "execution_count": 20,
     "metadata": {},
     "output_type": "execute_result"
    }
   ],
   "source": [
    "clean = 0.03\n",
    "n_trials = (3*22)*0.9*5\n",
    "\n",
    "stats.binom(n_trials, clean).cdf(0)"
   ]
  },
  {
   "cell_type": "markdown",
   "id": "e1b4d54f",
   "metadata": {},
   "source": [
    "## You want to get lunch at La Panaderia, but notice that the line is usually very long at lunchtime. After several weeks of careful observation, you notice that the average number of people in line when your lunch break starts is normally distributed with a mean of 15 and standard deviation of 3. If it takes 2 minutes for each person to order, and 10 minutes from ordering to getting your food, what is the likelihood that you have at least 15 minutes left to eat your food before you have to go back to class? Assume you have one hour for lunch, and ignore travel time to and from La Panaderia.\n",
    "\n"
   ]
  },
  {
   "cell_type": "code",
   "execution_count": null,
   "id": "aebc5d93",
   "metadata": {},
   "outputs": [],
   "source": [
    "## Mean 15 in line, STD 3 \n",
    "## 2 mins to order \n",
    "## 10 mins to get food\n",
    "\n",
    "#p45 mins get the food. "
   ]
  },
  {
   "cell_type": "code",
   "execution_count": 48,
   "id": "6103e2eb",
   "metadata": {},
   "outputs": [
    {
     "data": {
      "text/plain": [
       "0.7976716190363569"
      ]
     },
     "execution_count": 48,
     "metadata": {},
     "output_type": "execute_result"
    }
   ],
   "source": [
    "stats.norm(30, 6).sf(25)"
   ]
  },
  {
   "cell_type": "code",
   "execution_count": null,
   "id": "b629a89e",
   "metadata": {},
   "outputs": [],
   "source": []
  },
  {
   "cell_type": "markdown",
   "id": "6898dd41",
   "metadata": {},
   "source": [
    "## Connect to the employees database and find the average salary of current employees, along with the standard deviation. For the following questions, calculate the answer based on modeling the employees salaries with a normal distribution defined by the calculated mean and standard deviation then compare this answer to the actual values present in the salaries dataset."
   ]
  },
  {
   "cell_type": "code",
   "execution_count": 30,
   "id": "8f968d57",
   "metadata": {},
   "outputs": [],
   "source": [
    "from pydataset import data"
   ]
  },
  {
   "cell_type": "code",
   "execution_count": 38,
   "id": "31a1fae6",
   "metadata": {},
   "outputs": [],
   "source": [
    "from env import get_db_url\n",
    "url = get_db_url(\"employees\")"
   ]
  },
  {
   "cell_type": "code",
   "execution_count": 42,
   "id": "24cfdfe8",
   "metadata": {},
   "outputs": [],
   "source": [
    "employees_sql_query = '''\n",
    "                     SELECT *\n",
    "                     FROM employees;\n",
    "                     '''"
   ]
  },
  {
   "cell_type": "code",
   "execution_count": 43,
   "id": "ce5ce31c",
   "metadata": {},
   "outputs": [
    {
     "data": {
      "text/html": [
       "<div>\n",
       "<style scoped>\n",
       "    .dataframe tbody tr th:only-of-type {\n",
       "        vertical-align: middle;\n",
       "    }\n",
       "\n",
       "    .dataframe tbody tr th {\n",
       "        vertical-align: top;\n",
       "    }\n",
       "\n",
       "    .dataframe thead th {\n",
       "        text-align: right;\n",
       "    }\n",
       "</style>\n",
       "<table border=\"1\" class=\"dataframe\">\n",
       "  <thead>\n",
       "    <tr style=\"text-align: right;\">\n",
       "      <th></th>\n",
       "      <th>emp_no</th>\n",
       "      <th>birth_date</th>\n",
       "      <th>first_name</th>\n",
       "      <th>last_name</th>\n",
       "      <th>gender</th>\n",
       "      <th>hire_date</th>\n",
       "    </tr>\n",
       "  </thead>\n",
       "  <tbody>\n",
       "    <tr>\n",
       "      <th>0</th>\n",
       "      <td>10001</td>\n",
       "      <td>1953-09-02</td>\n",
       "      <td>Georgi</td>\n",
       "      <td>Facello</td>\n",
       "      <td>M</td>\n",
       "      <td>1986-06-26</td>\n",
       "    </tr>\n",
       "    <tr>\n",
       "      <th>1</th>\n",
       "      <td>10002</td>\n",
       "      <td>1964-06-02</td>\n",
       "      <td>Bezalel</td>\n",
       "      <td>Simmel</td>\n",
       "      <td>F</td>\n",
       "      <td>1985-11-21</td>\n",
       "    </tr>\n",
       "    <tr>\n",
       "      <th>2</th>\n",
       "      <td>10003</td>\n",
       "      <td>1959-12-03</td>\n",
       "      <td>Parto</td>\n",
       "      <td>Bamford</td>\n",
       "      <td>M</td>\n",
       "      <td>1986-08-28</td>\n",
       "    </tr>\n",
       "    <tr>\n",
       "      <th>3</th>\n",
       "      <td>10004</td>\n",
       "      <td>1954-05-01</td>\n",
       "      <td>Chirstian</td>\n",
       "      <td>Koblick</td>\n",
       "      <td>M</td>\n",
       "      <td>1986-12-01</td>\n",
       "    </tr>\n",
       "    <tr>\n",
       "      <th>4</th>\n",
       "      <td>10005</td>\n",
       "      <td>1955-01-21</td>\n",
       "      <td>Kyoichi</td>\n",
       "      <td>Maliniak</td>\n",
       "      <td>M</td>\n",
       "      <td>1989-09-12</td>\n",
       "    </tr>\n",
       "  </tbody>\n",
       "</table>\n",
       "</div>"
      ],
      "text/plain": [
       "   emp_no  birth_date first_name last_name gender   hire_date\n",
       "0   10001  1953-09-02     Georgi   Facello      M  1986-06-26\n",
       "1   10002  1964-06-02    Bezalel    Simmel      F  1985-11-21\n",
       "2   10003  1959-12-03      Parto   Bamford      M  1986-08-28\n",
       "3   10004  1954-05-01  Chirstian   Koblick      M  1986-12-01\n",
       "4   10005  1955-01-21    Kyoichi  Maliniak      M  1989-09-12"
      ]
     },
     "execution_count": 43,
     "metadata": {},
     "output_type": "execute_result"
    }
   ],
   "source": [
    "employees =pd.read_sql(employees_sql_query, get_db_url(\"employees\"))\n",
    "employees.head()"
   ]
  },
  {
   "cell_type": "code",
   "execution_count": 50,
   "id": "3fde3c87",
   "metadata": {},
   "outputs": [],
   "source": [
    "salaries_sql_query = '''\n",
    "                     SELECT *\n",
    "                     FROM salaries;\n",
    "                     '''"
   ]
  },
  {
   "cell_type": "code",
   "execution_count": 51,
   "id": "9c781520",
   "metadata": {},
   "outputs": [
    {
     "data": {
      "text/html": [
       "<div>\n",
       "<style scoped>\n",
       "    .dataframe tbody tr th:only-of-type {\n",
       "        vertical-align: middle;\n",
       "    }\n",
       "\n",
       "    .dataframe tbody tr th {\n",
       "        vertical-align: top;\n",
       "    }\n",
       "\n",
       "    .dataframe thead th {\n",
       "        text-align: right;\n",
       "    }\n",
       "</style>\n",
       "<table border=\"1\" class=\"dataframe\">\n",
       "  <thead>\n",
       "    <tr style=\"text-align: right;\">\n",
       "      <th></th>\n",
       "      <th>emp_no</th>\n",
       "      <th>salary</th>\n",
       "      <th>from_date</th>\n",
       "      <th>to_date</th>\n",
       "    </tr>\n",
       "  </thead>\n",
       "  <tbody>\n",
       "    <tr>\n",
       "      <th>0</th>\n",
       "      <td>10001</td>\n",
       "      <td>60117</td>\n",
       "      <td>1986-06-26</td>\n",
       "      <td>1987-06-26</td>\n",
       "    </tr>\n",
       "    <tr>\n",
       "      <th>1</th>\n",
       "      <td>10001</td>\n",
       "      <td>62102</td>\n",
       "      <td>1987-06-26</td>\n",
       "      <td>1988-06-25</td>\n",
       "    </tr>\n",
       "    <tr>\n",
       "      <th>2</th>\n",
       "      <td>10001</td>\n",
       "      <td>66074</td>\n",
       "      <td>1988-06-25</td>\n",
       "      <td>1989-06-25</td>\n",
       "    </tr>\n",
       "    <tr>\n",
       "      <th>3</th>\n",
       "      <td>10001</td>\n",
       "      <td>66596</td>\n",
       "      <td>1989-06-25</td>\n",
       "      <td>1990-06-25</td>\n",
       "    </tr>\n",
       "    <tr>\n",
       "      <th>4</th>\n",
       "      <td>10001</td>\n",
       "      <td>66961</td>\n",
       "      <td>1990-06-25</td>\n",
       "      <td>1991-06-25</td>\n",
       "    </tr>\n",
       "  </tbody>\n",
       "</table>\n",
       "</div>"
      ],
      "text/plain": [
       "   emp_no  salary   from_date     to_date\n",
       "0   10001   60117  1986-06-26  1987-06-26\n",
       "1   10001   62102  1987-06-26  1988-06-25\n",
       "2   10001   66074  1988-06-25  1989-06-25\n",
       "3   10001   66596  1989-06-25  1990-06-25\n",
       "4   10001   66961  1990-06-25  1991-06-25"
      ]
     },
     "execution_count": 51,
     "metadata": {},
     "output_type": "execute_result"
    }
   ],
   "source": [
    "salaries =pd.read_sql(salaries_sql_query, get_db_url(\"employees\"))\n",
    "salaries.head()\n"
   ]
  },
  {
   "cell_type": "code",
   "execution_count": 72,
   "id": "b6d16312",
   "metadata": {},
   "outputs": [
    {
     "name": "stdout",
     "output_type": "stream",
     "text": [
      "<class 'pandas.core.frame.DataFrame'>\n",
      "RangeIndex: 2844047 entries, 0 to 2844046\n",
      "Data columns (total 1 columns):\n",
      " #   Column   Dtype \n",
      "---  ------   ----- \n",
      " 0   to_date  object\n",
      "dtypes: object(1)\n",
      "memory usage: 21.7+ MB\n"
     ]
    }
   ],
   "source": [
    "salaries[['to_date']].info()"
   ]
  },
  {
   "cell_type": "code",
   "execution_count": 94,
   "id": "ee30d5bf",
   "metadata": {},
   "outputs": [],
   "source": [
    "cursalary = salaries[salaries['to_date'].astype(str) == '9999-01-01']"
   ]
  },
  {
   "cell_type": "code",
   "execution_count": 96,
   "id": "cf4253ea",
   "metadata": {},
   "outputs": [
    {
     "data": {
      "text/plain": [
       "72012.23585730705"
      ]
     },
     "execution_count": 96,
     "metadata": {},
     "output_type": "execute_result"
    }
   ],
   "source": [
    "cursalary.salary.mean()"
   ]
  },
  {
   "cell_type": "code",
   "execution_count": 97,
   "id": "634e125a",
   "metadata": {},
   "outputs": [
    {
     "data": {
      "text/plain": [
       "17309.99538025198"
      ]
     },
     "execution_count": 97,
     "metadata": {},
     "output_type": "execute_result"
    }
   ],
   "source": [
    "cursalary.salary.std()"
   ]
  },
  {
   "cell_type": "markdown",
   "id": "6faf5d46",
   "metadata": {},
   "source": [
    "## What percent of employees earn less than 60,000?"
   ]
  },
  {
   "cell_type": "code",
   "execution_count": 101,
   "id": "2090073d",
   "metadata": {},
   "outputs": [
    {
     "data": {
      "text/plain": [
       "0.24385742480214423"
      ]
     },
     "execution_count": 101,
     "metadata": {},
     "output_type": "execute_result"
    }
   ],
   "source": [
    "stats.norm(cursalary.salary.mean(), cursalary.salary.std()).cdf(60000)"
   ]
  },
  {
   "cell_type": "markdown",
   "id": "a92468c6",
   "metadata": {},
   "source": [
    "## What percent of employees earn more than 95,000?"
   ]
  },
  {
   "cell_type": "code",
   "execution_count": 102,
   "id": "d1b7368f",
   "metadata": {},
   "outputs": [
    {
     "data": {
      "text/plain": [
       "0.09208819199804053"
      ]
     },
     "execution_count": 102,
     "metadata": {},
     "output_type": "execute_result"
    }
   ],
   "source": [
    "stats.norm(cursalary.salary.mean(), cursalary.salary.std()).sf(95000)"
   ]
  },
  {
   "cell_type": "markdown",
   "id": "d0564af9",
   "metadata": {},
   "source": [
    "## What percent of employees earn between 65,000 and 80,000?"
   ]
  },
  {
   "cell_type": "code",
   "execution_count": 106,
   "id": "a21080ac",
   "metadata": {},
   "outputs": [],
   "source": [
    "salary_65000 = stats.norm(cursalary.salary.mean(), cursalary.salary.std()).sf(65000)"
   ]
  },
  {
   "cell_type": "code",
   "execution_count": 107,
   "id": "2a7df38a",
   "metadata": {},
   "outputs": [],
   "source": [
    "salary_80000 = stats.norm(cursalary.salary.mean(), cursalary.salary.std()).sf(85000)"
   ]
  },
  {
   "cell_type": "code",
   "execution_count": 108,
   "id": "029caf90",
   "metadata": {},
   "outputs": [
    {
     "data": {
      "text/plain": [
       "0.43076135439519686"
      ]
     },
     "execution_count": 108,
     "metadata": {},
     "output_type": "execute_result"
    }
   ],
   "source": [
    "salary_65000 - salary_80000"
   ]
  },
  {
   "cell_type": "markdown",
   "id": "76149e9d",
   "metadata": {},
   "source": [
    "## What do the top 5% of employees make?"
   ]
  },
  {
   "cell_type": "code",
   "execution_count": 103,
   "id": "c05dcb51",
   "metadata": {},
   "outputs": [
    {
     "data": {
      "text/plain": [
       "100484.64454102777"
      ]
     },
     "execution_count": 103,
     "metadata": {},
     "output_type": "execute_result"
    }
   ],
   "source": [
    "stats.norm(cursalary.salary.mean(), cursalary.salary.std()).isf(0.05)"
   ]
  },
  {
   "cell_type": "code",
   "execution_count": null,
   "id": "cbad239a",
   "metadata": {},
   "outputs": [],
   "source": []
  }
 ],
 "metadata": {
  "kernelspec": {
   "display_name": "Python 3 (ipykernel)",
   "language": "python",
   "name": "python3"
  },
  "language_info": {
   "codemirror_mode": {
    "name": "ipython",
    "version": 3
   },
   "file_extension": ".py",
   "mimetype": "text/x-python",
   "name": "python",
   "nbconvert_exporter": "python",
   "pygments_lexer": "ipython3",
   "version": "3.9.7"
  }
 },
 "nbformat": 4,
 "nbformat_minor": 5
}
