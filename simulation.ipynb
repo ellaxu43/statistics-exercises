{
 "cells": [
  {
   "cell_type": "code",
   "execution_count": 1,
   "id": "980eb06b",
   "metadata": {},
   "outputs": [],
   "source": [
    "import numpy as np"
   ]
  },
  {
   "cell_type": "code",
   "execution_count": 2,
   "id": "087a0ff9",
   "metadata": {},
   "outputs": [],
   "source": [
    "import pandas as pd"
   ]
  },
  {
   "cell_type": "code",
   "execution_count": 19,
   "id": "b0a87472",
   "metadata": {},
   "outputs": [],
   "source": [
    "from scipy import stats"
   ]
  },
  {
   "cell_type": "markdown",
   "id": "8a5a3b5a",
   "metadata": {},
   "source": [
    "## 1. How likely is it that you roll doubles when rolling two dice?"
   ]
  },
  {
   "cell_type": "code",
   "execution_count": 3,
   "id": "22ae62a2",
   "metadata": {},
   "outputs": [
    {
     "data": {
      "text/html": [
       "<div>\n",
       "<style scoped>\n",
       "    .dataframe tbody tr th:only-of-type {\n",
       "        vertical-align: middle;\n",
       "    }\n",
       "\n",
       "    .dataframe tbody tr th {\n",
       "        vertical-align: top;\n",
       "    }\n",
       "\n",
       "    .dataframe thead th {\n",
       "        text-align: right;\n",
       "    }\n",
       "</style>\n",
       "<table border=\"1\" class=\"dataframe\">\n",
       "  <thead>\n",
       "    <tr style=\"text-align: right;\">\n",
       "      <th></th>\n",
       "      <th>first</th>\n",
       "      <th>second</th>\n",
       "    </tr>\n",
       "  </thead>\n",
       "  <tbody>\n",
       "    <tr>\n",
       "      <th>0</th>\n",
       "      <td>4</td>\n",
       "      <td>2</td>\n",
       "    </tr>\n",
       "    <tr>\n",
       "      <th>1</th>\n",
       "      <td>2</td>\n",
       "      <td>1</td>\n",
       "    </tr>\n",
       "    <tr>\n",
       "      <th>2</th>\n",
       "      <td>6</td>\n",
       "      <td>6</td>\n",
       "    </tr>\n",
       "    <tr>\n",
       "      <th>3</th>\n",
       "      <td>5</td>\n",
       "      <td>1</td>\n",
       "    </tr>\n",
       "    <tr>\n",
       "      <th>4</th>\n",
       "      <td>6</td>\n",
       "      <td>4</td>\n",
       "    </tr>\n",
       "    <tr>\n",
       "      <th>...</th>\n",
       "      <td>...</td>\n",
       "      <td>...</td>\n",
       "    </tr>\n",
       "    <tr>\n",
       "      <th>9995</th>\n",
       "      <td>3</td>\n",
       "      <td>3</td>\n",
       "    </tr>\n",
       "    <tr>\n",
       "      <th>9996</th>\n",
       "      <td>6</td>\n",
       "      <td>5</td>\n",
       "    </tr>\n",
       "    <tr>\n",
       "      <th>9997</th>\n",
       "      <td>1</td>\n",
       "      <td>2</td>\n",
       "    </tr>\n",
       "    <tr>\n",
       "      <th>9998</th>\n",
       "      <td>6</td>\n",
       "      <td>3</td>\n",
       "    </tr>\n",
       "    <tr>\n",
       "      <th>9999</th>\n",
       "      <td>3</td>\n",
       "      <td>2</td>\n",
       "    </tr>\n",
       "  </tbody>\n",
       "</table>\n",
       "<p>10000 rows × 2 columns</p>\n",
       "</div>"
      ],
      "text/plain": [
       "      first  second\n",
       "0         4       2\n",
       "1         2       1\n",
       "2         6       6\n",
       "3         5       1\n",
       "4         6       4\n",
       "...     ...     ...\n",
       "9995      3       3\n",
       "9996      6       5\n",
       "9997      1       2\n",
       "9998      6       3\n",
       "9999      3       2\n",
       "\n",
       "[10000 rows x 2 columns]"
      ]
     },
     "execution_count": 3,
     "metadata": {},
     "output_type": "execute_result"
    }
   ],
   "source": [
    "# 1. Figure out how to represent your data (1 = heads, 0 = tails)\n",
    "# a dice roll is a random number between 1 and 6\n",
    "\n",
    "# 2. Create a matrix of random numbers, rows represent simulations cols represent trials\n",
    "rolls = pd.DataFrame(np.random.randint(1, 7, size=(10000, 2)), columns = ['first','second'])\n",
    "\n",
    "rolls"
   ]
  },
  {
   "cell_type": "code",
   "execution_count": 4,
   "id": "4791d955",
   "metadata": {},
   "outputs": [
    {
     "data": {
      "text/plain": [
       "0.1669"
      ]
     },
     "execution_count": 4,
     "metadata": {},
     "output_type": "execute_result"
    }
   ],
   "source": [
    "(rolls['first'] == rolls['second']).sum()/10000"
   ]
  },
  {
   "cell_type": "code",
   "execution_count": 5,
   "id": "1ead3d61",
   "metadata": {},
   "outputs": [
    {
     "data": {
      "text/plain": [
       "0.1669"
      ]
     },
     "execution_count": 5,
     "metadata": {},
     "output_type": "execute_result"
    }
   ],
   "source": [
    "\n",
    "# 3. Apply an aggregation row-wise to summarize each simulation (sum for the total number of heads)\n",
    "two_doubles = rolls.apply(lambda row: row['first']==row['second'], axis=1)\n",
    "\n",
    "# 4. Apply an aggregation to the resulting 1-d array to come up with a experimental probability (>= 2 heads, mean)\n",
    "two_doubles.mean()"
   ]
  },
  {
   "cell_type": "markdown",
   "id": "c21ffb33",
   "metadata": {},
   "source": [
    "## 2. If you flip 8 coins, what is the probability of getting exactly 3 heads? What is the probability of getting more than 3 heads?"
   ]
  },
  {
   "cell_type": "code",
   "execution_count": 6,
   "id": "31865aea",
   "metadata": {},
   "outputs": [
    {
     "data": {
      "text/html": [
       "<div>\n",
       "<style scoped>\n",
       "    .dataframe tbody tr th:only-of-type {\n",
       "        vertical-align: middle;\n",
       "    }\n",
       "\n",
       "    .dataframe tbody tr th {\n",
       "        vertical-align: top;\n",
       "    }\n",
       "\n",
       "    .dataframe thead th {\n",
       "        text-align: right;\n",
       "    }\n",
       "</style>\n",
       "<table border=\"1\" class=\"dataframe\">\n",
       "  <thead>\n",
       "    <tr style=\"text-align: right;\">\n",
       "      <th></th>\n",
       "      <th>0</th>\n",
       "      <th>1</th>\n",
       "      <th>2</th>\n",
       "      <th>3</th>\n",
       "      <th>4</th>\n",
       "      <th>5</th>\n",
       "      <th>6</th>\n",
       "      <th>7</th>\n",
       "    </tr>\n",
       "  </thead>\n",
       "  <tbody>\n",
       "    <tr>\n",
       "      <th>0</th>\n",
       "      <td>1</td>\n",
       "      <td>3</td>\n",
       "      <td>4</td>\n",
       "      <td>4</td>\n",
       "      <td>4</td>\n",
       "      <td>2</td>\n",
       "      <td>6</td>\n",
       "      <td>1</td>\n",
       "    </tr>\n",
       "    <tr>\n",
       "      <th>1</th>\n",
       "      <td>3</td>\n",
       "      <td>1</td>\n",
       "      <td>3</td>\n",
       "      <td>6</td>\n",
       "      <td>2</td>\n",
       "      <td>6</td>\n",
       "      <td>4</td>\n",
       "      <td>4</td>\n",
       "    </tr>\n",
       "    <tr>\n",
       "      <th>2</th>\n",
       "      <td>1</td>\n",
       "      <td>3</td>\n",
       "      <td>3</td>\n",
       "      <td>3</td>\n",
       "      <td>3</td>\n",
       "      <td>5</td>\n",
       "      <td>1</td>\n",
       "      <td>4</td>\n",
       "    </tr>\n",
       "    <tr>\n",
       "      <th>3</th>\n",
       "      <td>5</td>\n",
       "      <td>2</td>\n",
       "      <td>2</td>\n",
       "      <td>6</td>\n",
       "      <td>4</td>\n",
       "      <td>4</td>\n",
       "      <td>6</td>\n",
       "      <td>3</td>\n",
       "    </tr>\n",
       "    <tr>\n",
       "      <th>4</th>\n",
       "      <td>4</td>\n",
       "      <td>5</td>\n",
       "      <td>5</td>\n",
       "      <td>5</td>\n",
       "      <td>6</td>\n",
       "      <td>6</td>\n",
       "      <td>3</td>\n",
       "      <td>1</td>\n",
       "    </tr>\n",
       "    <tr>\n",
       "      <th>...</th>\n",
       "      <td>...</td>\n",
       "      <td>...</td>\n",
       "      <td>...</td>\n",
       "      <td>...</td>\n",
       "      <td>...</td>\n",
       "      <td>...</td>\n",
       "      <td>...</td>\n",
       "      <td>...</td>\n",
       "    </tr>\n",
       "    <tr>\n",
       "      <th>9995</th>\n",
       "      <td>3</td>\n",
       "      <td>2</td>\n",
       "      <td>1</td>\n",
       "      <td>3</td>\n",
       "      <td>4</td>\n",
       "      <td>5</td>\n",
       "      <td>2</td>\n",
       "      <td>1</td>\n",
       "    </tr>\n",
       "    <tr>\n",
       "      <th>9996</th>\n",
       "      <td>4</td>\n",
       "      <td>5</td>\n",
       "      <td>5</td>\n",
       "      <td>6</td>\n",
       "      <td>6</td>\n",
       "      <td>1</td>\n",
       "      <td>5</td>\n",
       "      <td>1</td>\n",
       "    </tr>\n",
       "    <tr>\n",
       "      <th>9997</th>\n",
       "      <td>1</td>\n",
       "      <td>5</td>\n",
       "      <td>1</td>\n",
       "      <td>4</td>\n",
       "      <td>2</td>\n",
       "      <td>4</td>\n",
       "      <td>6</td>\n",
       "      <td>5</td>\n",
       "    </tr>\n",
       "    <tr>\n",
       "      <th>9998</th>\n",
       "      <td>3</td>\n",
       "      <td>4</td>\n",
       "      <td>5</td>\n",
       "      <td>2</td>\n",
       "      <td>4</td>\n",
       "      <td>6</td>\n",
       "      <td>3</td>\n",
       "      <td>3</td>\n",
       "    </tr>\n",
       "    <tr>\n",
       "      <th>9999</th>\n",
       "      <td>2</td>\n",
       "      <td>6</td>\n",
       "      <td>4</td>\n",
       "      <td>3</td>\n",
       "      <td>1</td>\n",
       "      <td>5</td>\n",
       "      <td>1</td>\n",
       "      <td>2</td>\n",
       "    </tr>\n",
       "  </tbody>\n",
       "</table>\n",
       "<p>10000 rows × 8 columns</p>\n",
       "</div>"
      ],
      "text/plain": [
       "      0  1  2  3  4  5  6  7\n",
       "0     1  3  4  4  4  2  6  1\n",
       "1     3  1  3  6  2  6  4  4\n",
       "2     1  3  3  3  3  5  1  4\n",
       "3     5  2  2  6  4  4  6  3\n",
       "4     4  5  5  5  6  6  3  1\n",
       "...  .. .. .. .. .. .. .. ..\n",
       "9995  3  2  1  3  4  5  2  1\n",
       "9996  4  5  5  6  6  1  5  1\n",
       "9997  1  5  1  4  2  4  6  5\n",
       "9998  3  4  5  2  4  6  3  3\n",
       "9999  2  6  4  3  1  5  1  2\n",
       "\n",
       "[10000 rows x 8 columns]"
      ]
     },
     "execution_count": 6,
     "metadata": {},
     "output_type": "execute_result"
    }
   ],
   "source": [
    "rolls = pd.DataFrame(np.random.randint(1, 7, size=(10000, 8)))\n",
    "\n",
    "rolls"
   ]
  },
  {
   "cell_type": "code",
   "execution_count": 7,
   "id": "f9b67b12",
   "metadata": {},
   "outputs": [
    {
     "data": {
      "text/plain": [
       "1.339"
      ]
     },
     "execution_count": 7,
     "metadata": {},
     "output_type": "execute_result"
    }
   ],
   "source": [
    "did_we_get_at_least_3_3 = (rolls == 3).sum(axis=1)\n",
    "\n",
    "did_we_get_at_least_3_3\n",
    "# 4. Apply an aggregation to the resulting 1-d array to come up with a experimental probability (>= 2 heads, mean)\n",
    "did_we_get_at_least_3_3.mean()"
   ]
  },
  {
   "cell_type": "markdown",
   "id": "48a50043",
   "metadata": {},
   "source": [
    "## 3. There are approximitely 3 web development cohorts for every 1 data science cohort at Codeup. Assuming that Codeup randomly selects an alumni to put on a billboard, what are the odds that the two billboards I drive past both have data science students on them?"
   ]
  },
  {
   "cell_type": "code",
   "execution_count": 8,
   "id": "164548a0",
   "metadata": {},
   "outputs": [],
   "source": [
    "# 3 A, 1 B, that's the P to get 2 B "
   ]
  },
  {
   "cell_type": "code",
   "execution_count": 9,
   "id": "5d9f7a2d",
   "metadata": {},
   "outputs": [],
   "source": [
    "n_trials = 2 # billboards\n",
    "n_simulations = 10_000 # arbitrary number of sims\n",
    "\n",
    "data_cohort_sim = np.random.uniform(size=(n_simulations, n_trials)) <= .25"
   ]
  },
  {
   "cell_type": "code",
   "execution_count": 10,
   "id": "09f28d44",
   "metadata": {},
   "outputs": [
    {
     "data": {
      "text/plain": [
       "array([[ True, False],\n",
       "       [False,  True],\n",
       "       [False, False],\n",
       "       ...,\n",
       "       [False, False],\n",
       "       [ True,  True],\n",
       "       [False, False]])"
      ]
     },
     "execution_count": 10,
     "metadata": {},
     "output_type": "execute_result"
    }
   ],
   "source": [
    "data_cohort_sim"
   ]
  },
  {
   "cell_type": "code",
   "execution_count": 11,
   "id": "9d010f3f",
   "metadata": {},
   "outputs": [
    {
     "data": {
      "text/plain": [
       "array([1, 1, 0, ..., 0, 2, 0])"
      ]
     },
     "execution_count": 11,
     "metadata": {},
     "output_type": "execute_result"
    }
   ],
   "source": [
    "n_data_cohort_choose = data_cohort_sim.sum(axis=1)\n",
    "n_data_cohort_choose"
   ]
  },
  {
   "cell_type": "code",
   "execution_count": 12,
   "id": "90dcf780",
   "metadata": {},
   "outputs": [],
   "source": [
    "two_are_data = n_data_cohort_choose >=2\n"
   ]
  },
  {
   "cell_type": "code",
   "execution_count": 13,
   "id": "6e5faeb8",
   "metadata": {},
   "outputs": [
    {
     "data": {
      "text/plain": [
       "0.0637"
      ]
     },
     "execution_count": 13,
     "metadata": {},
     "output_type": "execute_result"
    }
   ],
   "source": [
    "two_are_data.mean()"
   ]
  },
  {
   "cell_type": "markdown",
   "id": "9806f760",
   "metadata": {},
   "source": [
    "## 4. Codeup students buy, on average, 3 poptart packages with a standard deviation of 1.5 a day from the snack vending machine. If on monday the machine is restocked with 17 poptart packages, how likely is it that I will be able to buy some poptarts on Friday afternoon? (Remember, if you have mean and standard deviation, use the np.random.normal)\n",
    "\n"
   ]
  },
  {
   "cell_type": "code",
   "execution_count": 76,
   "id": "674d0437",
   "metadata": {},
   "outputs": [],
   "source": [
    "# STD = 1.5 \n",
    "# x Mean = 3\n",
    "# restock 17\n",
    "## What's the p x <= 16."
   ]
  },
  {
   "cell_type": "code",
   "execution_count": null,
   "id": "c655aac4",
   "metadata": {},
   "outputs": [],
   "source": []
  },
  {
   "cell_type": "code",
   "execution_count": null,
   "id": "efa23b87",
   "metadata": {},
   "outputs": [],
   "source": []
  },
  {
   "cell_type": "code",
   "execution_count": null,
   "id": "5cb0fe53",
   "metadata": {},
   "outputs": [],
   "source": []
  },
  {
   "cell_type": "code",
   "execution_count": 20,
   "id": "b3b07839",
   "metadata": {},
   "outputs": [
    {
     "data": {
      "text/plain": [
       "0.9298307044439873"
      ]
     },
     "execution_count": 20,
     "metadata": {},
     "output_type": "execute_result"
    }
   ],
   "source": [
    "# we're given average and standard deviation, this tells us we need normal distribution\n",
    "total_poptarts = 17\n",
    "n_days = 4\n",
    "\n",
    "mean = 3\n",
    "std_dev = 1.5\n",
    "\n",
    "max_poptarts_per_day = 4\n",
    "\n",
    "dist = stats.norm(mean, std_dev)\n",
    "\n",
    "# We start with 17 poptarts at the beginning of the week.\n",
    "# After 4 days how likely is it that there are still poptarts.\n",
    "\n",
    "# Probability that no more than 16 poptarts are purchased.\n",
    "dist.cdf(max_poptarts_per_day) ** (1 / n_days)"
   ]
  },
  {
   "cell_type": "code",
   "execution_count": 21,
   "id": "dc2d01a5",
   "metadata": {},
   "outputs": [
    {
     "data": {
      "text/plain": [
       "0.9265"
      ]
     },
     "execution_count": 21,
     "metadata": {},
     "output_type": "execute_result"
    }
   ],
   "source": [
    "purchases = np.random.normal(3, 1.5, size =(10_000, 4)).round()\n",
    "purchases = np.where(purchases < 0, 0, purchases)\n",
    " \n",
    "(purchases.sum(axis=1)<=16).mean()"
   ]
  },
  {
   "cell_type": "code",
   "execution_count": 23,
   "id": "770ca4fa",
   "metadata": {},
   "outputs": [
    {
     "data": {
      "text/plain": [
       "array([[4., 4., 4., 3.],\n",
       "       [3., 2., 1., 3.],\n",
       "       [1., 6., 5., 3.],\n",
       "       ...,\n",
       "       [3., 3., 5., 3.],\n",
       "       [1., 3., 2., 4.],\n",
       "       [5., 2., 3., 5.]])"
      ]
     },
     "execution_count": 23,
     "metadata": {},
     "output_type": "execute_result"
    }
   ],
   "source": [
    "purchases"
   ]
  },
  {
   "cell_type": "markdown",
   "id": "e09ff4e0",
   "metadata": {},
   "source": [
    "## 5. Compare Heights\n",
    "\n",
    "Men have an average height of 178 cm and standard deviation of 8cm.\n",
    "Women have a mean of 170, sd = 6cm.\n",
    "Since you have means and standard deviations, you can use np.random.normal to generate observations.\n",
    "If a man and woman are chosen at random, P(woman taller than man)?"
   ]
  },
  {
   "cell_type": "code",
   "execution_count": 13,
   "id": "b4d9c309",
   "metadata": {},
   "outputs": [],
   "source": [
    "male_height = np.random.normal(178, 8, 10000)"
   ]
  },
  {
   "cell_type": "code",
   "execution_count": 14,
   "id": "48af4e2a",
   "metadata": {},
   "outputs": [],
   "source": [
    "female_height = np.random.normal(170,6,10000)"
   ]
  },
  {
   "cell_type": "code",
   "execution_count": 15,
   "id": "b40c82c7",
   "metadata": {},
   "outputs": [
    {
     "data": {
      "text/plain": [
       "array([181.9191097 , 166.51622228, 185.99224178, ..., 175.79300942,\n",
       "       150.20490282, 175.10982262])"
      ]
     },
     "execution_count": 15,
     "metadata": {},
     "output_type": "execute_result"
    }
   ],
   "source": [
    "male_height"
   ]
  },
  {
   "cell_type": "code",
   "execution_count": 16,
   "id": "894a2c8a",
   "metadata": {},
   "outputs": [
    {
     "data": {
      "text/plain": [
       "array([171.02073529, 168.11162148, 170.76127032, ..., 173.17506854,\n",
       "       165.9955116 , 173.29918996])"
      ]
     },
     "execution_count": 16,
     "metadata": {},
     "output_type": "execute_result"
    }
   ],
   "source": [
    "female_height"
   ]
  },
  {
   "cell_type": "code",
   "execution_count": 18,
   "id": "b98fc88c",
   "metadata": {},
   "outputs": [
    {
     "data": {
      "text/plain": [
       "0.2097"
      ]
     },
     "execution_count": 18,
     "metadata": {},
     "output_type": "execute_result"
    }
   ],
   "source": [
    "(male_height < female_height).mean()"
   ]
  },
  {
   "cell_type": "markdown",
   "id": "f7e72bbb",
   "metadata": {},
   "source": [
    "## 6. When installing anaconda on a student's computer, there's a 1 in 250 chance that the download is corrupted and the installation fails. What are the odds that after having 50 students download anaconda, no one has an installation issue? 100 students?"
   ]
  },
  {
   "cell_type": "code",
   "execution_count": 83,
   "id": "798cc2d3",
   "metadata": {},
   "outputs": [],
   "source": [
    "n_trials = 50 \n",
    "n_simulations = 10_000 \n",
    "\n",
    "download_sim = np.random.uniform(size=(n_simulations, n_trials)) <= 0.004"
   ]
  },
  {
   "cell_type": "code",
   "execution_count": 84,
   "id": "b88a0f69",
   "metadata": {},
   "outputs": [
    {
     "data": {
      "text/plain": [
       "array([[False, False, False, ..., False, False, False],\n",
       "       [False, False, False, ..., False, False, False],\n",
       "       [False, False, False, ..., False, False, False],\n",
       "       ...,\n",
       "       [False, False, False, ..., False, False, False],\n",
       "       [False, False, False, ..., False, False, False],\n",
       "       [False, False, False, ..., False, False, False]])"
      ]
     },
     "execution_count": 84,
     "metadata": {},
     "output_type": "execute_result"
    }
   ],
   "source": [
    "download_sim"
   ]
  },
  {
   "cell_type": "code",
   "execution_count": 85,
   "id": "6e0f4011",
   "metadata": {},
   "outputs": [
    {
     "data": {
      "text/plain": [
       "array([0, 1, 0, ..., 0, 0, 0])"
      ]
     },
     "execution_count": 85,
     "metadata": {},
     "output_type": "execute_result"
    }
   ],
   "source": [
    "download_sim_choose = download_sim.sum(axis=1)\n",
    "download_sim_choose"
   ]
  },
  {
   "cell_type": "code",
   "execution_count": 86,
   "id": "afc1d31b",
   "metadata": {},
   "outputs": [],
   "source": [
    "no_one_error = download_sim_choose ==0\n"
   ]
  },
  {
   "cell_type": "code",
   "execution_count": 87,
   "id": "db1e0cfe",
   "metadata": {},
   "outputs": [
    {
     "data": {
      "text/plain": [
       "0.8214"
      ]
     },
     "execution_count": 87,
     "metadata": {},
     "output_type": "execute_result"
    }
   ],
   "source": [
    "no_one_error.mean()"
   ]
  },
  {
   "cell_type": "markdown",
   "id": "9fcb93b8",
   "metadata": {},
   "source": [
    "## 7. There's a 70% chance on any given day that there will be at least one food truck at Travis Park. However, you haven't seen a food truck there in 3 days. How unlikely is this?"
   ]
  },
  {
   "cell_type": "markdown",
   "id": "6c49165d",
   "metadata": {},
   "source": [
    "p = 0.7\n",
    "trail = 3"
   ]
  },
  {
   "cell_type": "code",
   "execution_count": 68,
   "id": "f73fbdb5",
   "metadata": {},
   "outputs": [],
   "source": [
    "n_trials = 3\n",
    "n_simulations = 10_000 \n",
    "\n",
    "food_truck_sim = np.random.uniform(size=(n_simulations, n_trials)) <= 0.7"
   ]
  },
  {
   "cell_type": "code",
   "execution_count": 69,
   "id": "d6bf28d0",
   "metadata": {},
   "outputs": [
    {
     "data": {
      "text/plain": [
       "array([[False,  True,  True],\n",
       "       [ True,  True, False],\n",
       "       [ True,  True,  True],\n",
       "       ...,\n",
       "       [ True,  True, False],\n",
       "       [ True, False, False],\n",
       "       [ True, False,  True]])"
      ]
     },
     "execution_count": 69,
     "metadata": {},
     "output_type": "execute_result"
    }
   ],
   "source": [
    "food_truck_sim"
   ]
  },
  {
   "cell_type": "code",
   "execution_count": 73,
   "id": "d7417d64",
   "metadata": {},
   "outputs": [
    {
     "data": {
      "text/plain": [
       "array([2, 2, 3, ..., 2, 1, 2])"
      ]
     },
     "execution_count": 73,
     "metadata": {},
     "output_type": "execute_result"
    }
   ],
   "source": [
    "food_truck_here = food_truck_sim.sum(axis=1)\n",
    "food_truck_here"
   ]
  },
  {
   "cell_type": "code",
   "execution_count": 75,
   "id": "4d9cb8e6",
   "metadata": {},
   "outputs": [],
   "source": [
    "no_food_truck = food_truck_here <=0"
   ]
  },
  {
   "cell_type": "code",
   "execution_count": 76,
   "id": "d5f3f829",
   "metadata": {},
   "outputs": [
    {
     "data": {
      "text/plain": [
       "0.0286"
      ]
     },
     "execution_count": 76,
     "metadata": {},
     "output_type": "execute_result"
    }
   ],
   "source": [
    "no_food_truck.mean()"
   ]
  },
  {
   "cell_type": "markdown",
   "id": "476bb730",
   "metadata": {},
   "source": [
    "## How likely is it that a food truck will show up sometime this week?"
   ]
  },
  {
   "cell_type": "code",
   "execution_count": 84,
   "id": "848e571f",
   "metadata": {},
   "outputs": [],
   "source": [
    "n_trials = 5\n",
    "n_simulations = 10_000 \n",
    "\n",
    "food_truck_sim = np.random.uniform(size=(n_simulations, n_trials)) <= 0.7"
   ]
  },
  {
   "cell_type": "code",
   "execution_count": 85,
   "id": "0e979f2a",
   "metadata": {},
   "outputs": [
    {
     "data": {
      "text/plain": [
       "array([3, 2, 3, ..., 5, 1, 2])"
      ]
     },
     "execution_count": 85,
     "metadata": {},
     "output_type": "execute_result"
    }
   ],
   "source": [
    "food_truck_here = food_truck_sim.sum(axis=1)\n",
    "food_truck_here"
   ]
  },
  {
   "cell_type": "code",
   "execution_count": 92,
   "id": "28fe5708",
   "metadata": {},
   "outputs": [],
   "source": [
    "no_food_truck = food_truck_here >= 1"
   ]
  },
  {
   "cell_type": "code",
   "execution_count": 93,
   "id": "1c855681",
   "metadata": {},
   "outputs": [
    {
     "data": {
      "text/plain": [
       "0.9974"
      ]
     },
     "execution_count": 93,
     "metadata": {},
     "output_type": "execute_result"
    }
   ],
   "source": [
    "no_food_truck.mean()"
   ]
  },
  {
   "cell_type": "markdown",
   "id": "9635118e",
   "metadata": {},
   "source": [
    "## 8. If 23 people are in the same room, what are the odds that two of them share a birthday? What if it's 20 people? 40?\n",
    "\n"
   ]
  },
  {
   "cell_type": "code",
   "execution_count": 3,
   "id": "3182d6e6",
   "metadata": {},
   "outputs": [],
   "source": [
    "import numpy as np"
   ]
  },
  {
   "cell_type": "code",
   "execution_count": 68,
   "id": "99ad6e33",
   "metadata": {},
   "outputs": [
    {
     "data": {
      "text/plain": [
       "[8,\n",
       " 22,\n",
       " 36,\n",
       " 60,\n",
       " 72,\n",
       " 125,\n",
       " 129,\n",
       " 150,\n",
       " 174,\n",
       " 196,\n",
       " 206,\n",
       " 248,\n",
       " 259,\n",
       " 280,\n",
       " 290,\n",
       " 299,\n",
       " 308,\n",
       " 316,\n",
       " 318,\n",
       " 321,\n",
       " 325,\n",
       " 330,\n",
       " 342]"
      ]
     },
     "execution_count": 68,
     "metadata": {},
     "output_type": "execute_result"
    }
   ],
   "source": [
    "birthday_23 = np.random.randint(1,365,23)\n",
    "sorted(birthday_23)"
   ]
  },
  {
   "cell_type": "code",
   "execution_count": 19,
   "id": "2b228c7b",
   "metadata": {},
   "outputs": [
    {
     "name": "stdout",
     "output_type": "stream",
     "text": [
      "shared\n"
     ]
    }
   ],
   "source": [
    "if len(np.unique(birthday_23)) == 23:\n",
    "    print('no same')\n",
    "else:\n",
    "    print('shared')"
   ]
  },
  {
   "cell_type": "code",
   "execution_count": 61,
   "id": "44915950",
   "metadata": {},
   "outputs": [],
   "source": [
    "def share_birthday():\n",
    "    \n",
    "    birthday_list = np.random.randint(1,365,23)\n",
    "    if len(np.unique(birthday_list)) == 23:\n",
    "        return 1\n",
    "    else:\n",
    "        return 0"
   ]
  },
  {
   "cell_type": "code",
   "execution_count": 63,
   "id": "0eaf688c",
   "metadata": {},
   "outputs": [
    {
     "data": {
      "text/plain": [
       "0.49157"
      ]
     },
     "execution_count": 63,
     "metadata": {},
     "output_type": "execute_result"
    }
   ],
   "source": [
    "n = 100000\n",
    "freq_no_two_share_birthday = sum([share_birthday() for i in range(n)])\n",
    "pro_noshare = freq_no_two_share_birthday/n\n",
    "pro_noshare"
   ]
  },
  {
   "cell_type": "code",
   "execution_count": 64,
   "id": "0abe8c9c",
   "metadata": {},
   "outputs": [
    {
     "data": {
      "text/plain": [
       "0.5084299999999999"
      ]
     },
     "execution_count": 64,
     "metadata": {},
     "output_type": "execute_result"
    }
   ],
   "source": [
    "1-pro_noshare"
   ]
  },
  {
   "cell_type": "code",
   "execution_count": 53,
   "id": "89b41ce6",
   "metadata": {},
   "outputs": [],
   "source": [
    "birthday_23 = np.random.randint(1,365,23)"
   ]
  },
  {
   "cell_type": "code",
   "execution_count": 54,
   "id": "6e40b700",
   "metadata": {},
   "outputs": [
    {
     "data": {
      "text/plain": [
       "array([316, 350, 347, 219, 202, 355, 215, 221, 267, 294, 315, 124, 287,\n",
       "        52, 298, 204, 222, 302, 232, 292, 259,  20, 337])"
      ]
     },
     "execution_count": 54,
     "metadata": {},
     "output_type": "execute_result"
    }
   ],
   "source": [
    "birthday_23"
   ]
  },
  {
   "cell_type": "code",
   "execution_count": 71,
   "id": "87a179eb",
   "metadata": {},
   "outputs": [
    {
     "name": "stdout",
     "output_type": "stream",
     "text": [
      "1\n",
      "1\n",
      "1\n",
      "1\n",
      "1\n",
      "1\n",
      "1\n",
      "1\n",
      "1\n",
      "1\n",
      "1\n",
      "1\n",
      "1\n",
      "1\n",
      "1\n",
      "1\n",
      "1\n",
      "1\n",
      "1\n",
      "1\n",
      "1\n",
      "1\n",
      "1\n"
     ]
    }
   ],
   "source": [
    "for i in birthday_23:\n",
    "    if len(np.unique(birthday_23)) == 23:\n",
    "        print('1')\n",
    "    else:\n",
    "        print('0')"
   ]
  },
  {
   "cell_type": "code",
   "execution_count": null,
   "id": "58f250ba",
   "metadata": {},
   "outputs": [],
   "source": [
    "n = 100000\n",
    "freq_no_two_share_birthday = sum([share_birthday(40) for i in range(n)])\n",
    "pro_noshare = freq_no_two_share_birthday/n\n",
    "pro_noshare"
   ]
  }
 ],
 "metadata": {
  "kernelspec": {
   "display_name": "Python 3 (ipykernel)",
   "language": "python",
   "name": "python3"
  },
  "language_info": {
   "codemirror_mode": {
    "name": "ipython",
    "version": 3
   },
   "file_extension": ".py",
   "mimetype": "text/x-python",
   "name": "python",
   "nbconvert_exporter": "python",
   "pygments_lexer": "ipython3",
   "version": "3.9.7"
  }
 },
 "nbformat": 4,
 "nbformat_minor": 5
}
